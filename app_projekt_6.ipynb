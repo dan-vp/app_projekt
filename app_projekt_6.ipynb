{
 "cells": [
  {
   "cell_type": "code",
   "execution_count": null,
   "id": "a78f291a",
   "metadata": {},
   "outputs": [],
   "source": [
    "import pandas as pd\n",
    "import plotly.express as px\n",
    "import seaborn as sns"
   ]
  },
  {
   "cell_type": "code",
   "execution_count": null,
   "id": "d63b5799",
   "metadata": {},
   "outputs": [],
   "source": [
    "df = pd.read_csv(\"C:/Users/danie/Downloads/SmA-Four-Tank-Batch-Process_V2.csv\", sep = \";\")"
   ]
  },
  {
   "cell_type": "code",
   "execution_count": null,
   "id": "d7012645",
   "metadata": {},
   "outputs": [],
   "source": [
    "col = []\n",
    "\n",
    "for x in df.columns:\n",
    "    col.append(x.split(\" \")[0])\n",
    "    \n",
    "df.columns = col"
   ]
  },
  {
   "cell_type": "code",
   "execution_count": null,
   "id": "917aa5e4",
   "metadata": {},
   "outputs": [],
   "source": [
    "# Entferne alle Schritte mit StepID = 2, da diese für das Projekt nicht relevant sind\n",
    "df.drop(df[df[\"CuStepNo\"] == 2].index, inplace = True)"
   ]
  },
  {
   "cell_type": "code",
   "execution_count": null,
   "id": "154f42ef",
   "metadata": {},
   "outputs": [],
   "source": [
    "# Extrahiere die Zeitangaben bzw. formatiere die Zeitstempel in das richtige Format\n",
    "df.timestamp = pd.to_datetime(df.timestamp)\n",
    "\n",
    "# df['timestamp']=pd.to_datetime(df['timestamp'],format='%Y-%m-%dT%H:%M:%S.%f')\n",
    "\n",
    "df[\"day\"] = df.timestamp.dt.day\n",
    "df[\"hour\"] = df.timestamp.dt.hour\n",
    "df[\"minute\"] = df.timestamp.dt.minute\n",
    "df[\"second\"] = df.timestamp.dt.second"
   ]
  },
  {
   "cell_type": "code",
   "execution_count": null,
   "id": "5b60348d",
   "metadata": {},
   "outputs": [],
   "source": [
    "df[df.any(axis = 1).isna()]"
   ]
  },
  {
   "cell_type": "code",
   "execution_count": null,
   "id": "39dfd42f",
   "metadata": {},
   "outputs": [],
   "source": [
    "# determine start and end of steps\n",
    "df['dstep_p']=df['CuStepNo'].diff()\n",
    "df['dstep_n']=df['CuStepNo'].diff(-1)\n",
    "\n",
    "vsteps = [1,7,8,3]\n",
    "\n",
    "# select rows with a step change\n",
    "dfsen=df[(df['dstep_n']!=0)]\n",
    "dfsep=df[(df['dstep_p']!=0)]\n",
    "dfse=pd.concat([dfsen,dfsep])\n",
    "dfse=dfse.sort_values(by=['timestamp'])\n",
    "\n",
    "# create new dataframe where we store extracted information\n",
    "dfinfo_steps=pd.DataFrame(columns=['step_length','start','end','stepn'])\n",
    "\n",
    "# iterative approach\n",
    "pstep=-1\n",
    "c=0\n",
    "for n in range(dfse.shape[0]):\n",
    "    # get row\n",
    "    r=dfse.iloc[n]\n",
    "    if pstep==r['CuStepNo']:\n",
    "        # determine step length\n",
    "        stepl=r['timestamp']-dfse.iloc[n-1]['timestamp']\n",
    "        # update dataframe\n",
    "        dfinfo_steps.loc[c]=(stepl,dfse.iloc[n-1]['timestamp'],r['timestamp'],r['CuStepNo'])\n",
    "        c=c+1\n",
    "    else:\n",
    "        pstep=r['CuStepNo']\n",
    "print(dfinfo_steps.head())\n",
    "print('Max step_length: {}'.format(dfinfo_steps['step_length'].max()))\n",
    "print('Min step_length: {}'.format(dfinfo_steps['step_length'].min()))\n",
    "print('#steps: {}'.format(dfinfo_steps.shape[0]))\n",
    "\n",
    "# now determine whether the batch is complete\n",
    "batchn=1\n",
    "batchi=-1\n",
    "dfinfo_steps[\"batchn\"]=0\n",
    "dfinfo_steps[\"is_complete\"]=False\n",
    "dfinfo_batches=pd.DataFrame(columns=['batch_length','start','end','steps','batchn','is_complete'])\n",
    "n=0\n",
    "b=0\n",
    "while True:\n",
    "    if n+len(vsteps)>dfinfo_steps.shape[0]:\n",
    "        # complete info at incomplete, last batch\n",
    "        steps=[]\n",
    "        for v in range(dfinfo_steps.shape[0]-n):\n",
    "            dfinfo_steps.at[n+v,'batchn']=batchi\n",
    "            dfinfo_steps.at[n+v,'is_complete']=False\n",
    "            steps.append(dfinfo_steps.at[n+v,'stepn'])\n",
    "        dfinfo_batches.loc[b]=[dfinfo_steps.at[n+v,'end']-dfinfo_steps.at[n,'start'],dfinfo_steps.at[n,'start'], \\\n",
    "                               dfinfo_steps.at[n+v,'end'],steps,batchi,False]\n",
    "        b=b+1\n",
    "        break\n",
    "    # check if all steps of a batch are present and in correct order\n",
    "    isCorrect=True\n",
    "    for v in range(len(vsteps)):\n",
    "        isCorrect=dfinfo_steps.loc[n+v,'stepn']==vsteps[v]\n",
    "        if not isCorrect:\n",
    "            break\n",
    "    if isCorrect:\n",
    "        steps=[]\n",
    "        for v in range(len(vsteps)):\n",
    "            dfinfo_steps.at[n+v,'batchn']=batchn\n",
    "            dfinfo_steps.at[n+v,'is_complete']=True\n",
    "            steps.append(dfinfo_steps.at[n+v,'stepn'])\n",
    "        dfinfo_batches.loc[b]=[dfinfo_steps.at[n+v,'end']-dfinfo_steps.at[n,'start'],dfinfo_steps.at[n,'start'], \\\n",
    "                               dfinfo_steps.at[n+v,'end'],steps,batchn,True]\n",
    "        n=n+len(vsteps)\n",
    "        batchn=batchn+1\n",
    "        b=b+1\n",
    "    else:\n",
    "        steps=[]\n",
    "        for vc in range(v):\n",
    "            dfinfo_steps.at[n+vc,'batchn']=batchi\n",
    "            dfinfo_steps.at[n+vc,'is_complete']=False\n",
    "            steps.append(dfinfo_steps.at[n+v,'stepn'])\n",
    "        dfinfo_batches.loc[b]=[dfinfo_steps.at[n+vc,'end']-dfinfo_steps.at[n,'start'],dfinfo_steps.at[n,'start'], \\\n",
    "                               dfinfo_steps.at[n+vc,'end'],steps,batchi,False]\n",
    "        batchi=batchi-1\n",
    "        n=n+vc\n",
    "        b=b+1\n",
    "# save dfinfo_steps to file\n",
    "dfinfo_steps.to_pickle('SmA-Four-Tank-Info-Steps.pkl')\n",
    "dfinfo_batches.to_pickle('SmA-Four-Tank-Info-Batches.pkl')\n"
   ]
  },
  {
   "cell_type": "code",
   "execution_count": null,
   "id": "0af641ff",
   "metadata": {},
   "outputs": [],
   "source": [
    "df_steps = pd.read_pickle(\"C:/Users/danie/SmA-Four-Tank-Info-Steps.pkl\")\n",
    "df_batches = pd.read_pickle(\"C:/Users/danie/SmA-Four-Tank-Info-Batches.pkl\")"
   ]
  },
  {
   "cell_type": "code",
   "execution_count": null,
   "id": "552b7697",
   "metadata": {},
   "outputs": [],
   "source": [
    "# Entferne den letzten unvollständigen Batch aus dem Datensatz\n",
    "\n",
    "df = df.drop(df[df.timestamp >= '2018-10-31 14:29:32'].index)"
   ]
  },
  {
   "cell_type": "code",
   "execution_count": null,
   "id": "28ba6c7f",
   "metadata": {},
   "outputs": [],
   "source": [
    "df[df.DeviationID == 0]"
   ]
  },
  {
   "cell_type": "code",
   "execution_count": null,
   "id": "c6fe883f",
   "metadata": {},
   "outputs": [],
   "source": [
    "# Entferne einen Zeileneintrag, bei dem die DeviationID 0 ist\n",
    "\n",
    "df = df.drop(df[df.DeviationID == 0].index)"
   ]
  },
  {
   "cell_type": "markdown",
   "id": "be5f14a5",
   "metadata": {},
   "source": [
    "# DevId\n",
    "### 1 --> Pl1200 (zwischen PL12002 und PL12003)\n",
    "### 2 --> PL1100 (zwischen YC10001 und YC14001)\n",
    "### 3 --> YC21006\n",
    "### 4 --> YC22006\n",
    "### 5 --> YC23006\n",
    "### 6 --> YS14005\n",
    "### 7 --> Pl2150\n",
    "### 8 --> YS14004\n",
    "### 9 --> YS10004"
   ]
  },
  {
   "cell_type": "markdown",
   "id": "b3b4e02d",
   "metadata": {},
   "source": [
    "Schritt 7 generell am kürzesten, Schritt 8 am längsten (evtl. wegen Pausen zwischen den Batches? An Wochenenden wurden jedoch keine Daten gespeichert)"
   ]
  },
  {
   "cell_type": "code",
   "execution_count": null,
   "id": "bbbeff36",
   "metadata": {},
   "outputs": [],
   "source": [
    "df.groupby(\"CuStepNo\").agg({\"second\":\"sum\"})"
   ]
  },
  {
   "cell_type": "code",
   "execution_count": null,
   "id": "e85e39a3",
   "metadata": {},
   "outputs": [],
   "source": [
    "df_steps.groupby(\"stepn\").agg({\"step_length\":\"sum\"})"
   ]
  },
  {
   "cell_type": "markdown",
   "id": "adb1f8c1",
   "metadata": {},
   "source": [
    "#### Wochenenden am:\n",
    "13.-14.\n",
    "\n",
    "20.-21.\n",
    "\n",
    "27.-28."
   ]
  },
  {
   "cell_type": "markdown",
   "id": "a9032c5b",
   "metadata": {},
   "source": [
    "### 16. und 23. Oktober komplett fehlerfrei"
   ]
  },
  {
   "cell_type": "code",
   "execution_count": null,
   "id": "fc0f0a25",
   "metadata": {},
   "outputs": [],
   "source": [
    "df[df.DeviationID > 1].day.unique()"
   ]
  },
  {
   "cell_type": "code",
   "execution_count": null,
   "id": "13010944",
   "metadata": {},
   "outputs": [],
   "source": [
    "df_steps.sort_values(\"step_length\", ascending = False)"
   ]
  },
  {
   "cell_type": "markdown",
   "id": "7f15ffc4",
   "metadata": {},
   "source": [
    "Batchprozesse finden zwischen 6 und 16 Uhr statt"
   ]
  },
  {
   "cell_type": "code",
   "execution_count": null,
   "id": "0c888626",
   "metadata": {},
   "outputs": [],
   "source": [
    "df.hour.describe()"
   ]
  },
  {
   "cell_type": "code",
   "execution_count": null,
   "id": "a00597d3",
   "metadata": {},
   "outputs": [],
   "source": [
    "# Füge Batchnummern und Schrittlängen zum Dataframe hinzu\n",
    "a = df.merge(df_steps, how = \"left\", left_on = \"timestamp\", right_on = \"start\")"
   ]
  },
  {
   "cell_type": "code",
   "execution_count": null,
   "id": "37efe245",
   "metadata": {},
   "outputs": [],
   "source": [
    "a[[\"stepn\"]] = a[[\"stepn\"]].fillna(method = \"ffill\")\n",
    "a[[\"batchn\"]] = a[[\"batchn\"]].fillna(method = \"ffill\")\n",
    "a[[\"step_length\"]] = a[[\"step_length\"]].fillna(method = \"ffill\")"
   ]
  },
  {
   "cell_type": "code",
   "execution_count": null,
   "id": "7dded8b5",
   "metadata": {},
   "outputs": [],
   "source": [
    "# redundante oder unnötige Spalten entfernen\n",
    "a.drop(columns = [\"start\", \"end\", \"is_complete\", \"stepn\"], inplace = True)"
   ]
  },
  {
   "cell_type": "markdown",
   "id": "771b12e9",
   "metadata": {},
   "source": [
    "## Ein Batchprozess benötigt hier zwischen 468 und 1997 Sekunden."
   ]
  },
  {
   "cell_type": "code",
   "execution_count": null,
   "id": "a0e81d48",
   "metadata": {},
   "outputs": [],
   "source": [
    "a.groupby([\"batchn\"]).agg({\"timestamp\":\"count\", \"DeviationID\":\"unique\", \"CuStepNo\":\"unique\"}).sort_values(\"timestamp\")"
   ]
  },
  {
   "cell_type": "markdown",
   "id": "2211ad99",
   "metadata": {},
   "source": [
    "### Schritt 8 in Batch 9 äußerst kurz"
   ]
  },
  {
   "cell_type": "code",
   "execution_count": null,
   "id": "a5fd0cdf",
   "metadata": {},
   "outputs": [],
   "source": [
    "a[a.batchn == 9].drop_duplicates(subset = [\"step_length\"])"
   ]
  },
  {
   "cell_type": "code",
   "execution_count": null,
   "id": "d3e43451",
   "metadata": {},
   "outputs": [],
   "source": [
    "a.groupby(\"DeviationID\").agg({\"batchn\":\"nunique\"})"
   ]
  },
  {
   "cell_type": "code",
   "execution_count": null,
   "id": "d17a5e10",
   "metadata": {},
   "outputs": [],
   "source": [
    "a.groupby(\"day\").agg({\"batchn\":\"nunique\"})"
   ]
  },
  {
   "cell_type": "markdown",
   "id": "468e39ac",
   "metadata": {},
   "source": [
    "### Bei 9 Spalten sind die gemessenene Werte konstant\n",
    "\n",
    "--> nicht nützlich zur Anomaliedetektion/ Klassifizierung, kann entfernt werden"
   ]
  },
  {
   "cell_type": "code",
   "execution_count": null,
   "id": "d766be66",
   "metadata": {},
   "outputs": [],
   "source": [
    "useless_columns = []\n",
    "\n",
    "for x in a.columns:\n",
    "    if a[x].describe()[2] == 0.0:\n",
    "        print(x)\n",
    "        useless_columns.append(x)\n",
    "        print(f\"unique values: {a[x].unique()}\")\n",
    "        \n",
    "a.drop(columns = useless_columns, inplace = True)"
   ]
  },
  {
   "cell_type": "code",
   "execution_count": null,
   "id": "d4e544af",
   "metadata": {},
   "outputs": [],
   "source": [
    "a[\"DeviationID\"] = a[\"DeviationID\"].astype(str)\n",
    "\n",
    "px.scatter(a.drop_duplicates(subset = [\"step_length\", \"batchn\", \"CuStepNo\"]).sort_values([\"batchn\",\"DeviationID\"]), \n",
    "           x = \"step_length\", \n",
    "           y = \"batchn\", \n",
    "           facet_row = \"CuStepNo\", title = \"Dauer pro Schritt in jedem Batch\",\n",
    "          color = \"DeviationID\")"
   ]
  },
  {
   "cell_type": "code",
   "execution_count": null,
   "id": "69832297",
   "metadata": {},
   "outputs": [],
   "source": [
    "a[\"step_length_total_seconds\"] = a.step_length.dt.total_seconds()\n",
    "\n",
    "px.scatter(a.drop_duplicates([\"batchn\", \"CuStepNo\"]), \n",
    "           x = \"step_length_total_seconds\", y = \"DeviationID\", \n",
    "           facet_col = \"CuStepNo\",\n",
    "          title = \"Dauern bestimmte Schritte länger bei Fehlern?\",\n",
    "          hover_name = \"batchn\")"
   ]
  },
  {
   "cell_type": "code",
   "execution_count": null,
   "id": "d27157d6",
   "metadata": {},
   "outputs": [],
   "source": [
    "# Immer ein bestimmter Wert für DeviationID pro Batch\n",
    "a.groupby(\"batchn\").agg({\"DeviationID\":\"nunique\"}).sort_values(\"DeviationID\")"
   ]
  },
  {
   "cell_type": "code",
   "execution_count": null,
   "id": "e57f7afa",
   "metadata": {},
   "outputs": [],
   "source": [
    "df_30s = a.resample(\"30S\", on = \"timestamp\").mean()"
   ]
  },
  {
   "cell_type": "code",
   "execution_count": null,
   "id": "ed69dbc3",
   "metadata": {},
   "outputs": [],
   "source": [
    "df_30s = df_30s.reset_index()"
   ]
  },
  {
   "cell_type": "code",
   "execution_count": null,
   "id": "75d2e848",
   "metadata": {},
   "outputs": [],
   "source": [
    "df_30s.iloc[:, 1:32].columns"
   ]
  },
  {
   "cell_type": "code",
   "execution_count": null,
   "id": "d59aab5c",
   "metadata": {},
   "outputs": [],
   "source": [
    "a[\"DeviationID\"] = a.DeviationID.astype(float)\n",
    "\n",
    "# Datenpunkte in Minutenintervalle zusammenfassen\n",
    "a.resample(\"60S\", on = \"timestamp\").mean().reset_index()"
   ]
  },
  {
   "cell_type": "code",
   "execution_count": null,
   "id": "26e8f1ec",
   "metadata": {},
   "outputs": [],
   "source": [
    "px.histogram(a.resample(\"5S\", on = \"timestamp\").mean().reset_index(), x = \"batchn\", nbins = 300,\n",
    "            title = \"Wurden alle Batches gleich oft im Datensatz gespeichert?\", color = \"DeviationID\", width = 1000)"
   ]
  },
  {
   "cell_type": "code",
   "execution_count": null,
   "id": "341fac06",
   "metadata": {},
   "outputs": [],
   "source": [
    "px.histogram(a.resample(\"10S\", on = \"timestamp\").mean().reset_index(), x = \"timestamp\", nbins = 300, color = \"DeviationID\")"
   ]
  },
  {
   "cell_type": "markdown",
   "id": "af110cb6",
   "metadata": {},
   "source": [
    "## Überblick über alle gemessenen Werte\n",
    "\n",
    "manche Fehlertypen evtl. nur durch Analysieren der zeitlichen Abstände erkennbar"
   ]
  },
  {
   "cell_type": "markdown",
   "id": "c08ba677",
   "metadata": {},
   "source": [
    "##### LevelMainTank um die Hälfte geringer ab 24.10.?\n",
    "\n",
    "##### PI12002_PV_Out ungefähr am 16.10. auf 0 ?\n",
    "\n",
    "##### FIC14002_SP kurz 0 am 26./27.10. --> Neustart des Systems?\n",
    "\n",
    "### DevID = 2.0 oder 3.0 \n",
    "--> YC14001_MV, FIC14002_MV nur auf 100?\n",
    "\n",
    "### DevID = 4.0 \n",
    "--> FIC14002_PV_Out über 5000, \n",
    "\n",
    "FIC14002_MV unter 30, \n",
    "\n",
    "YC14006_MV sehr hoch, \n",
    "\n",
    "PI14012_PV_Out sehr hoch (auch bei DevID = 3.0)\n",
    "\n",
    "PIC14007_MV sehr hoch\n",
    "\n",
    "\n",
    "### DevID = 8.0 \n",
    "--> YC14006_MV deutlich niedriger, \n",
    "\n",
    "PI14012_PV_Out unter 0 (beide Bauteile hängen miteinander zusammen), \n",
    "\n",
    "YC23001_MV auf 100, \n",
    "\n",
    "FIC23002_MV auf 100, \n",
    "\n",
    "FIC14002_SP minimal"
   ]
  },
  {
   "cell_type": "code",
   "execution_count": null,
   "id": "714f0f67",
   "metadata": {},
   "outputs": [],
   "source": [
    "for x in a.iloc[:, 3:33].columns:\n",
    "    plt.figure(figsize=(15, 5), dpi=80)\n",
    "    plt.plot(a[\"timestamp\"], a[x])\n",
    "    plt.title(x)"
   ]
  },
  {
   "cell_type": "code",
   "execution_count": null,
   "id": "97370457",
   "metadata": {},
   "outputs": [],
   "source": [
    "a[a.FIC23002_MV == 100].DeviationID.unique()"
   ]
  },
  {
   "cell_type": "code",
   "execution_count": null,
   "id": "94b0e68f",
   "metadata": {},
   "outputs": [],
   "source": [
    "a[a.YC23001_MV == 100].DeviationID.unique()"
   ]
  },
  {
   "cell_type": "code",
   "execution_count": null,
   "id": "00fc9380",
   "metadata": {},
   "outputs": [],
   "source": [
    "a[a.FIC14002_SP == a.FIC14002_SP.min()].DeviationID.unique()"
   ]
  },
  {
   "cell_type": "code",
   "execution_count": null,
   "id": "94c6f42c",
   "metadata": {},
   "outputs": [],
   "source": [
    "a[a.PI14012_PV_Out < 0].DeviationID.unique()"
   ]
  },
  {
   "cell_type": "code",
   "execution_count": null,
   "id": "abcb3f05",
   "metadata": {},
   "outputs": [],
   "source": [
    "a[a.FIC14002_PV_Out > 5000].DeviationID.unique()"
   ]
  },
  {
   "cell_type": "code",
   "execution_count": null,
   "id": "0f342250",
   "metadata": {},
   "outputs": [],
   "source": [
    "a[a.PIC14007_MV >= 40].DeviationID.unique()"
   ]
  },
  {
   "cell_type": "code",
   "execution_count": null,
   "id": "2e038ad7",
   "metadata": {},
   "outputs": [],
   "source": [
    "a[a.FIC14002_MV < 30].DeviationID.unique()"
   ]
  },
  {
   "cell_type": "code",
   "execution_count": null,
   "id": "61096d12",
   "metadata": {},
   "outputs": [],
   "source": [
    "a[a.YC14006_MV == a.YC14006_MV.max()]"
   ]
  },
  {
   "cell_type": "code",
   "execution_count": null,
   "id": "4d505381",
   "metadata": {},
   "outputs": [],
   "source": [
    "a[a.PI14012_PV_Out > 2.0].DeviationID.unique()"
   ]
  },
  {
   "cell_type": "markdown",
   "id": "27bcaee0",
   "metadata": {},
   "source": [
    "## zu DeviationID = 2.0"
   ]
  },
  {
   "cell_type": "code",
   "execution_count": null,
   "id": "191ad252",
   "metadata": {},
   "outputs": [],
   "source": [
    "px.line(a[[\"timestamp\", \"DeviationID\", \"YC14001_MV\", \"day\"]][a.day.isin([16,17,18])],\n",
    "       x = \"timestamp\", y = \"YC14001_MV\", facet_row = \"DeviationID\")"
   ]
  },
  {
   "cell_type": "code",
   "execution_count": null,
   "id": "1d10e931",
   "metadata": {},
   "outputs": [],
   "source": [
    "px.line(a[[\"timestamp\", \"DeviationID\", \"FIC14002_MV\"]][a.day.isin([16,17,18])],\n",
    "       x = \"timestamp\", y = \"FIC14002_MV\", \n",
    "        facet_row = \"DeviationID\")"
   ]
  }
 ],
 "metadata": {
  "kernelspec": {
   "display_name": "Python 3",
   "language": "python",
   "name": "python3"
  },
  "language_info": {
   "codemirror_mode": {
    "name": "ipython",
    "version": 3
   },
   "file_extension": ".py",
   "mimetype": "text/x-python",
   "name": "python",
   "nbconvert_exporter": "python",
   "pygments_lexer": "ipython3",
   "version": "3.8.8"
  }
 },
 "nbformat": 4,
 "nbformat_minor": 5
}
