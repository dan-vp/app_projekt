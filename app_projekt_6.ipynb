{
 "cells": [
  {
   "cell_type": "code",
   "execution_count": null,
   "id": "a78f291a",
   "metadata": {},
   "outputs": [],
   "source": [
    "import pandas as pd\n",
    "import plotly.express as px\n",
    "import seaborn as sns"
   ]
  },
  {
   "cell_type": "code",
   "execution_count": null,
   "id": "d63b5799",
   "metadata": {},
   "outputs": [],
   "source": [
    "df = pd.read_csv(\"C:/Users/danie/Downloads/SmA-Four-Tank-Batch-Process_V2.csv\", sep = \";\")"
   ]
  },
  {
   "cell_type": "code",
   "execution_count": null,
   "id": "d7012645",
   "metadata": {},
   "outputs": [],
   "source": [
    "col = []\n",
    "\n",
    "for x in df.columns:\n",
    "    col.append(x.split(\" \")[0])\n",
    "    \n",
    "df.columns = col"
   ]
  },
  {
   "cell_type": "code",
   "execution_count": null,
   "id": "917aa5e4",
   "metadata": {},
   "outputs": [],
   "source": [
    "# Entferne alle Schritte mit StepID = 2, da diese für das Projekt nicht relevant sind\n",
    "df.drop(df[df[\"CuStepNo\"] == 2].index, inplace = True)"
   ]
  },
  {
   "cell_type": "code",
   "execution_count": null,
   "id": "154f42ef",
   "metadata": {},
   "outputs": [],
   "source": [
    "# Extrahiere die Zeitangaben bzw. formatiere die Zeitstempel in das richtige Format\n",
    "df.timestamp = pd.to_datetime(df.timestamp)\n",
    "\n",
    "# df['timestamp']=pd.to_datetime(df['timestamp'],format='%Y-%m-%dT%H:%M:%S.%f')\n",
    "\n",
    "df[\"day\"] = df.timestamp.dt.day\n",
    "df[\"hour\"] = df.timestamp.dt.hour\n",
    "df[\"minute\"] = df.timestamp.dt.minute\n",
    "df[\"second\"] = df.timestamp.dt.second"
   ]
  },
  {
   "cell_type": "code",
   "execution_count": null,
   "id": "4aef73e0",
   "metadata": {},
   "outputs": [],
   "source": [
    "df.columns"
   ]
  },
  {
   "cell_type": "code",
   "execution_count": null,
   "id": "a30131b7",
   "metadata": {},
   "outputs": [],
   "source": [
    "df[df.any(axis = 1).isna()]"
   ]
  },
  {
   "cell_type": "code",
   "execution_count": null,
   "id": "4f240834",
   "metadata": {},
   "outputs": [],
   "source": [
    "# determine start and end of steps\n",
    "df['dstep_p']=df['CuStepNo'].diff()\n",
    "df['dstep_n']=df['CuStepNo'].diff(-1)\n",
    "\n",
    "vsteps = [1,7,8,3]\n",
    "\n",
    "# select rows with a step change\n",
    "dfsen=df[(df['dstep_n']!=0)]\n",
    "dfsep=df[(df['dstep_p']!=0)]\n",
    "dfse=pd.concat([dfsen,dfsep])\n",
    "dfse=dfse.sort_values(by=['timestamp'])\n",
    "\n",
    "# create new dataframe where we store extracted information\n",
    "dfinfo_steps=pd.DataFrame(columns=['step_length','start','end','stepn'])\n",
    "\n",
    "# iterative approach\n",
    "pstep=-1\n",
    "c=0\n",
    "for n in range(dfse.shape[0]):\n",
    "    # get row\n",
    "    r=dfse.iloc[n]\n",
    "    if pstep==r['CuStepNo']:\n",
    "        # determine step length\n",
    "        stepl=r['timestamp']-dfse.iloc[n-1]['timestamp']\n",
    "        # update dataframe\n",
    "        dfinfo_steps.loc[c]=(stepl,dfse.iloc[n-1]['timestamp'],r['timestamp'],r['CuStepNo'])\n",
    "        c=c+1\n",
    "    else:\n",
    "        pstep=r['CuStepNo']\n",
    "print(dfinfo_steps.head())\n",
    "print('Max step_length: {}'.format(dfinfo_steps['step_length'].max()))\n",
    "print('Min step_length: {}'.format(dfinfo_steps['step_length'].min()))\n",
    "print('#steps: {}'.format(dfinfo_steps.shape[0]))\n",
    "\n",
    "# now determine whether the batch is complete\n",
    "batchn=1\n",
    "batchi=-1\n",
    "dfinfo_steps[\"batchn\"]=0\n",
    "dfinfo_steps[\"is_complete\"]=False\n",
    "dfinfo_batches=pd.DataFrame(columns=['batch_length','start','end','steps','batchn','is_complete'])\n",
    "n=0\n",
    "b=0\n",
    "while True:\n",
    "    if n+len(vsteps)>dfinfo_steps.shape[0]:\n",
    "        # complete info at incomplete, last batch\n",
    "        steps=[]\n",
    "        for v in range(dfinfo_steps.shape[0]-n):\n",
    "            dfinfo_steps.at[n+v,'batchn']=batchi\n",
    "            dfinfo_steps.at[n+v,'is_complete']=False\n",
    "            steps.append(dfinfo_steps.at[n+v,'stepn'])\n",
    "        dfinfo_batches.loc[b]=[dfinfo_steps.at[n+v,'end']-dfinfo_steps.at[n,'start'],dfinfo_steps.at[n,'start'], \\\n",
    "                               dfinfo_steps.at[n+v,'end'],steps,batchi,False]\n",
    "        b=b+1\n",
    "        break\n",
    "    # check if all steps of a batch are present and in correct order\n",
    "    isCorrect=True\n",
    "    for v in range(len(vsteps)):\n",
    "        isCorrect=dfinfo_steps.loc[n+v,'stepn']==vsteps[v]\n",
    "        if not isCorrect:\n",
    "            break\n",
    "    if isCorrect:\n",
    "        steps=[]\n",
    "        for v in range(len(vsteps)):\n",
    "            dfinfo_steps.at[n+v,'batchn']=batchn\n",
    "            dfinfo_steps.at[n+v,'is_complete']=True\n",
    "            steps.append(dfinfo_steps.at[n+v,'stepn'])\n",
    "        dfinfo_batches.loc[b]=[dfinfo_steps.at[n+v,'end']-dfinfo_steps.at[n,'start'],dfinfo_steps.at[n,'start'], \\\n",
    "                               dfinfo_steps.at[n+v,'end'],steps,batchn,True]\n",
    "        n=n+len(vsteps)\n",
    "        batchn=batchn+1\n",
    "        b=b+1\n",
    "    else:\n",
    "        steps=[]\n",
    "        for vc in range(v):\n",
    "            dfinfo_steps.at[n+vc,'batchn']=batchi\n",
    "            dfinfo_steps.at[n+vc,'is_complete']=False\n",
    "            steps.append(dfinfo_steps.at[n+v,'stepn'])\n",
    "        dfinfo_batches.loc[b]=[dfinfo_steps.at[n+vc,'end']-dfinfo_steps.at[n,'start'],dfinfo_steps.at[n,'start'], \\\n",
    "                               dfinfo_steps.at[n+vc,'end'],steps,batchi,False]\n",
    "        batchi=batchi-1\n",
    "        n=n+vc\n",
    "        b=b+1\n",
    "# save dfinfo_steps to file\n",
    "dfinfo_steps.to_pickle('SmA-Four-Tank-Info-Steps.pkl')\n",
    "dfinfo_batches.to_pickle('SmA-Four-Tank-Info-Batches.pkl')\n"
   ]
  },
  {
   "cell_type": "code",
   "execution_count": null,
   "id": "95e8a973",
   "metadata": {},
   "outputs": [],
   "source": [
    "df_steps = pd.read_pickle(\"C:/Users/danie/SmA-Four-Tank-Info-Steps.pkl\")\n",
    "df_batches = pd.read_pickle(\"C:/Users/danie/SmA-Four-Tank-Info-Batches.pkl\")"
   ]
  },
  {
   "cell_type": "code",
   "execution_count": null,
   "id": "5e841c78",
   "metadata": {},
   "outputs": [],
   "source": [
    "df_batches"
   ]
  },
  {
   "cell_type": "code",
   "execution_count": null,
   "id": "17d07dc1",
   "metadata": {},
   "outputs": [],
   "source": [
    "# Entferne den letzten unvollständigen Batch aus dem Datensatz\n",
    "\n",
    "df = df.drop(df[df.timestamp >= '2018-10-31 14:29:32'].index)"
   ]
  },
  {
   "cell_type": "code",
   "execution_count": null,
   "id": "981fa4d1",
   "metadata": {},
   "outputs": [],
   "source": [
    "df[df.DeviationID == 0]"
   ]
  },
  {
   "cell_type": "code",
   "execution_count": null,
   "id": "482524b1",
   "metadata": {},
   "outputs": [],
   "source": [
    "# Entferne einen Zeileneintrag, bei dem die DeviationID 0 ist\n",
    "\n",
    "df = df.drop(df[df.DeviationID == 0].index)"
   ]
  },
  {
   "cell_type": "code",
   "execution_count": null,
   "id": "bffda1c9",
   "metadata": {},
   "outputs": [],
   "source": [
    "df.columns.sort_values()"
   ]
  },
  {
   "cell_type": "code",
   "execution_count": null,
   "id": "d268fac5",
   "metadata": {},
   "outputs": [],
   "source": [
    "components = [\"PI10003\", \"YS10004\", \"LI10002\", \"VE1000\", \"YC10001\", \"PI12002\", \"PL1100\", \"PL1200\", \"PI12003\", \"YC14001\", \"FIC14002\",\n",
    "\"YC21001\", \"FIC21002\", \"LIC21002\", \"VE2100\", \"YS21004\", \"FIC22002\", \"YC2201\", \"LIC22002\", \"VE2200\", \"YS22004\",\n",
    "\"FIC23002\", \"YC23001\", \"LIC23002\", \"VE2300\", \"YS23004\", \"PI14012\", \"PI14013\", \"PIC14007\", \"YC14008\", \"YC21006\", \"YC22006\", \"YC23006\",\n",
    "\"PL2150\", \"YS14004\", \"YS14005\"]"
   ]
  },
  {
   "cell_type": "code",
   "execution_count": null,
   "id": "eb333216",
   "metadata": {},
   "outputs": [],
   "source": [
    "df.columns.sort_values()"
   ]
  },
  {
   "cell_type": "code",
   "execution_count": null,
   "id": "0e374295",
   "metadata": {},
   "outputs": [],
   "source": [
    "#px.line(df[df.DeviationID > 1][[\"timestamp\", \"FIC14002_MV\", \"FIC14002_PV_Out\", \"FIC14002_SP\", \"DeviationID\"]].drop_duplicates(\"timestamp\"), x = \"timestamp\",\n",
    " #      y = [\"FIC14002_MV\", \"FIC14002_PV_Out\", \"FIC14002_SP\"])"
   ]
  },
  {
   "cell_type": "code",
   "execution_count": null,
   "id": "c16fb2cd",
   "metadata": {},
   "outputs": [],
   "source": [
    "df.columns"
   ]
  },
  {
   "cell_type": "code",
   "execution_count": null,
   "id": "8aceae80",
   "metadata": {},
   "outputs": [],
   "source": [
    "# DevId\n",
    "# 1 --> Pl1200 (zwischen PL12002 und PL12003)\n",
    "# 2 --> PL1100 (zwischen YC10001 und YC14001)\n",
    "# 3 --> YC21006 (zwischen )\n",
    "# 4 --> YC22006\n",
    "# 5 --> YC23006\n",
    "# 6 --> YS14005\n",
    "# 7 --> Pl2150\n",
    "# 8 --> YS14004\n",
    "# 9 --> YS10004"
   ]
  },
  {
   "cell_type": "code",
   "execution_count": null,
   "id": "1f1f7393",
   "metadata": {},
   "outputs": [],
   "source": [
    "df.groupby(\"CuStepNo\").agg({\"second\":\"sum\"})"
   ]
  },
  {
   "cell_type": "code",
   "execution_count": null,
   "id": "04c062d2",
   "metadata": {},
   "outputs": [],
   "source": [
    "# Wochenenden am:\n",
    "# 13.-14.\n",
    "# 20.-21.\n",
    "# 27.-28."
   ]
  },
  {
   "cell_type": "code",
   "execution_count": null,
   "id": "e61e528c",
   "metadata": {},
   "outputs": [],
   "source": [
    "df[df.DeviationID > 1].day.unique()\n",
    "# 16. und 23. Oktober komplett fehlerfrei"
   ]
  },
  {
   "cell_type": "code",
   "execution_count": null,
   "id": "12bf9c5d",
   "metadata": {},
   "outputs": [],
   "source": [
    "px.scatter(df[df.DeviationID > 1].sort_values(by = \"DeviationID\"), x = \"timestamp\", y = \"DeviationID\", \n",
    "           facet_row = \"CuStepNo\")"
   ]
  },
  {
   "cell_type": "code",
   "execution_count": null,
   "id": "046a3cb9",
   "metadata": {},
   "outputs": [],
   "source": [
    "px.histogram(df.groupby([\"DeviationID\", \"CuStepNo\"], as_index = False).agg({\"second\":\"sum\"}),\n",
    "      x = \"CuStepNo\", y = \"second\", facet_row = \"DeviationID\", height = 1000,\n",
    "      title = \"In welchem Prozessschritt hält ein Fehler am längsten an?\")"
   ]
  },
  {
   "cell_type": "code",
   "execution_count": null,
   "id": "c9e31993",
   "metadata": {},
   "outputs": [],
   "source": [
    "df.day.unique()"
   ]
  },
  {
   "cell_type": "code",
   "execution_count": null,
   "id": "ad4802ae",
   "metadata": {},
   "outputs": [],
   "source": [
    "df_steps.sort_values(\"step_length\", ascending = False)"
   ]
  }
 ],
 "metadata": {
  "kernelspec": {
   "display_name": "Python 3",
   "language": "python",
   "name": "python3"
  },
  "language_info": {
   "codemirror_mode": {
    "name": "ipython",
    "version": 3
   },
   "file_extension": ".py",
   "mimetype": "text/x-python",
   "name": "python",
   "nbconvert_exporter": "python",
   "pygments_lexer": "ipython3",
   "version": "3.8.8"
  }
 },
 "nbformat": 4,
 "nbformat_minor": 5
}
